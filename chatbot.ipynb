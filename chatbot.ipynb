{
 "cells": [
  {
   "cell_type": "code",
   "execution_count": 2,
   "metadata": {},
   "outputs": [],
   "source": [
    "import os\n",
    "\n",
    "from dotenv import load_dotenv\n",
    "from langchain_groq import ChatGroq"
   ]
  },
  {
   "cell_type": "code",
   "execution_count": 3,
   "metadata": {},
   "outputs": [],
   "source": [
    "load_dotenv()\n",
    "LLAMA_API_KEY = os.environ.get(\"LLAMA_API_KEY\")\n",
    "llm = ChatGroq(temperature=0, groq_api_key=LLAMA_API_KEY, model_name=\"llama3-8b-8192\")"
   ]
  },
  {
   "cell_type": "code",
   "execution_count": 4,
   "metadata": {},
   "outputs": [],
   "source": [
    "conversation_history = {\"athlete\": [], \"coach\": []}\n",
    "\n",
    "\n",
    "def get_response(user_input, role):\n",
    "    full_context = (\n",
    "        \"\\n\".join(conversation_history[role])\n",
    "        + f\"\\nUser: {user_input}\\nPlease respond briefly and factually as if you are advising a {role}. \"\n",
    "        f\"Only provide accurate information based on facts. If you're unsure or there isn't enough information to give a complete answer, \"\n",
    "        f\"ask the user for clarification or more details.\"\n",
    "    )\n",
    "    response = llm.invoke(full_context)\n",
    "\n",
    "    conversation_history[role].append(f\"{role.capitalize()}: {user_input}\")\n",
    "    conversation_history[role].append(f\"Bot: {response.content}\")\n",
    "\n",
    "    return response.content"
   ]
  },
  {
   "cell_type": "code",
   "execution_count": 5,
   "metadata": {},
   "outputs": [
    {
     "name": "stdout",
     "output_type": "stream",
     "text": [
      "how may I assist you today\n",
      "Exciting! With a racing event tomorrow, here's a quick checklist to help you prepare:\n",
      "\n",
      "1. **Recovery**: Since you're racing tomorrow, prioritize recovery today. Focus on gentle stretching, light cardio (e.g., a short jog or bike ride), and a balanced meal with complex carbs and protein.\n",
      "2. **Hydration**: Drink plenty of water throughout the day to ensure you're well-hydrated for the event.\n",
      "3. **Gear check**: Double-check your racing gear, including your bike, helmet, and any other essential equipment.\n",
      "4. **Mental prep**: Visualize your race, focus on positive self-talk, and try to get a good night's sleep to ensure you're mentally prepared.\n",
      "\n",
      "What specific concerns or areas do you want to focus on today?\n"
     ]
    }
   ],
   "source": [
    "role = input(\"Are you an athlete or a coach? \\n\").strip().lower()\n",
    "print(\"how may I assist you today\")\n",
    "if role in conversation_history:\n",
    "    while True:\n",
    "        user_input = input(f\"{role.capitalize()}: \")\n",
    "        if user_input.lower() == \"quit\":\n",
    "            break\n",
    "        print(get_response(user_input, role))\n",
    "else:\n",
    "    print(\"Invalid role. Please choose 'athlete' or 'coach'.\")"
   ]
  }
 ],
 "metadata": {
  "kernelspec": {
   "display_name": "base",
   "language": "python",
   "name": "python3"
  },
  "language_info": {
   "codemirror_mode": {
    "name": "ipython",
    "version": 3
   },
   "file_extension": ".py",
   "mimetype": "text/x-python",
   "name": "python",
   "nbconvert_exporter": "python",
   "pygments_lexer": "ipython3",
   "version": "3.11.5"
  }
 },
 "nbformat": 4,
 "nbformat_minor": 2
}
